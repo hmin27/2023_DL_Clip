{
  "cells": [
    {
      "cell_type": "markdown",
      "metadata": {
        "id": "view-in-github",
        "colab_type": "text"
      },
      "source": [
        "<a href=\"https://colab.research.google.com/github/hmin27/2023_DL_Clip/blob/main/Linear_Probe.ipynb\" target=\"_parent\"><img src=\"https://colab.research.google.com/assets/colab-badge.svg\" alt=\"Open In Colab\"/></a>"
      ]
    },
    {
      "cell_type": "markdown",
      "metadata": {
        "id": "rx2hKkBgzUkz"
      },
      "source": [
        "# CLIP Fewshot Linear Probe\n",
        "- 1, 2, 4, 8, 16 shots\n",
        "\n"
      ]
    },
    {
      "cell_type": "code",
      "execution_count": 1,
      "metadata": {
        "id": "UU5QbpXrDWUl",
        "colab": {
          "base_uri": "https://localhost:8080/"
        },
        "outputId": "3f6be4e9-c096-4bfc-f08a-b60eed19f651"
      },
      "outputs": [
        {
          "output_type": "stream",
          "name": "stdout",
          "text": [
            "Installing collected packages: clip\n",
            "Successfully installed clip-1.0\n"
          ]
        }
      ],
      "source": [
        "!pip install ftfy regex tqdm\n",
        "!pip install git+https://github.com/openai/CLIP.git"
      ]
    },
    {
      "cell_type": "code",
      "execution_count": 29,
      "metadata": {
        "colab": {
          "base_uri": "https://localhost:8080/"
        },
        "id": "wc7W2ooyDcLZ",
        "outputId": "65d31b08-52b9-4f0a-e591-65694a67ad23"
      },
      "outputs": [
        {
          "output_type": "stream",
          "name": "stdout",
          "text": [
            "cuda:0\n"
          ]
        }
      ],
      "source": [
        "import os\n",
        "import clip\n",
        "import torch\n",
        "from torch.utils.data import DataLoader\n",
        "from torchvision.datasets import ImageFolder\n",
        "from sklearn.linear_model import LogisticRegression\n",
        "from sklearn.metrics import accuracy_score\n",
        "import matplotlib.pyplot as plt\n",
        "\n",
        "BATCH_SIZE = 8\n",
        "\n",
        "device = torch.device(\"cuda:0\" if torch.cuda.is_available() else \"cpu\")\n",
        "print(device)"
      ]
    },
    {
      "cell_type": "markdown",
      "metadata": {
        "id": "p52DoKG6DmVA"
      },
      "source": [
        "# Prepare the Model and Data"
      ]
    },
    {
      "cell_type": "code",
      "execution_count": 3,
      "metadata": {
        "colab": {
          "base_uri": "https://localhost:8080/"
        },
        "id": "RnmtrDVrE9xn",
        "outputId": "356516a0-9932-4f42-bbc2-c2a06d89e2a4"
      },
      "outputs": [
        {
          "output_type": "stream",
          "name": "stdout",
          "text": [
            "Mounted at /content/drive\n"
          ]
        }
      ],
      "source": [
        "from google.colab import drive\n",
        "drive.mount('/content/drive')"
      ]
    },
    {
      "cell_type": "code",
      "execution_count": 4,
      "metadata": {
        "id": "X4faeiH7QkCV",
        "colab": {
          "base_uri": "https://localhost:8080/"
        },
        "outputId": "04727d57-2ede-4492-f770-6026faafcfd1"
      },
      "outputs": [
        {
          "output_type": "stream",
          "name": "stderr",
          "text": [
            "100%|████████████████████████████████████████| 338M/338M [00:02<00:00, 147MiB/s]\n"
          ]
        }
      ],
      "source": [
        "device = \"cuda\" if torch.cuda.is_available() else \"cpu\"\n",
        "model, preprocess = clip.load(\"ViT-B/32\", device=device, jit=False)\n",
        "model = model.to(torch.float32)"
      ]
    },
    {
      "cell_type": "markdown",
      "metadata": {
        "id": "fL2zwBDdNvZw"
      },
      "source": [
        "# Training"
      ]
    },
    {
      "cell_type": "code",
      "source": [
        "model = model.eval()\n",
        "\n",
        "# Load your few-shot data\n",
        "data_folder_base = '/content/drive/MyDrive/Study/DL_CLIP/Food_fewshot/{}_shot/{}'\n",
        "shot_list = [1, 2, 4, 8, 16]\n",
        "accuracies = []\n",
        "\n",
        "for num_shots in shot_list:\n",
        "    data_folder_train = data_folder_base.format(num_shots, 'train')\n",
        "    data_folder_test = data_folder_base.format(num_shots, 'test')\n",
        "\n",
        "    train_dataset = ImageFolder(root=data_folder_train, transform=preprocess)\n",
        "    test_dataset = ImageFolder(root=data_folder_test, transform=preprocess)\n",
        "\n",
        "    train_loader = DataLoader(train_dataset, batch_size=BATCH_SIZE, shuffle=True)\n",
        "    test_loader = DataLoader(test_dataset, batch_size=BATCH_SIZE, shuffle=False)\n",
        "\n",
        "    # Extract features from the CLIP model\n",
        "    def get_features(dataset):\n",
        "        all_features = []\n",
        "        all_labels = []\n",
        "\n",
        "        with torch.no_grad():\n",
        "            for images, labels in DataLoader(dataset, batch_size=BATCH_SIZE):\n",
        "                images = images.to(device)\n",
        "                features = model.encode_image(images)\n",
        "                all_features.append(features)\n",
        "                all_labels.append(labels)\n",
        "\n",
        "        return torch.cat(all_features).cpu().numpy(), torch.cat(all_labels).cpu().numpy()\n",
        "\n",
        "    train_features, train_labels = get_features(train_dataset)\n",
        "    test_features, test_labels = get_features(test_dataset)\n",
        "\n",
        "    # Perform logistic regression with the extracted features\n",
        "    classifier = LogisticRegression(random_state=0, C=0.316, max_iter=1000, verbose=1)\n",
        "    classifier.fit(train_features, train_labels)\n",
        "\n",
        "    # Evaluate using the logistic regression classifier\n",
        "    predictions = classifier.predict(test_features)\n",
        "    accuracy = accuracy_score(test_labels, predictions)\n",
        "    accuracies.append(accuracy)\n",
        "    print(f\"Accuracy on {num_shots}-shot data: {accuracy * 100:.2f}%\")\n",
        "\n",
        "# Plot the accuracies\n",
        "plt.plot(shot_list, accuracies, marker='o')\n",
        "for i, txt in enumerate(accuracies):\n",
        "    plt.annotate(f'{txt * 100:.2f}%', (shot_list[i], accuracies[i]), textcoords=\"offset points\", xytext=(0,10), ha='center')\n",
        "plt.title('Accuracy vs Number of Shots')\n",
        "plt.xlabel('Number of Shots')\n",
        "plt.ylabel('Accuracy')\n",
        "plt.show()"
      ],
      "metadata": {
        "colab": {
          "base_uri": "https://localhost:8080/",
          "height": 559
        },
        "id": "ELOeMGRK3eFd",
        "outputId": "0dab1529-5c5b-4f6a-d7c8-c736dfcef2d8"
      },
      "execution_count": 31,
      "outputs": [
        {
          "output_type": "stream",
          "name": "stdout",
          "text": [
            "Accuracy on 1-shot data: 54.55%\n",
            "Accuracy on 2-shot data: 75.76%\n",
            "Accuracy on 4-shot data: 84.85%\n",
            "Accuracy on 8-shot data: 93.18%\n",
            "Accuracy on 16-shot data: 93.18%\n"
          ]
        },
        {
          "output_type": "display_data",
          "data": {
            "text/plain": [
              "<Figure size 640x480 with 1 Axes>"
            ],
            "image/png": "[encoded data removed]"
          },
          "metadata": {}
        }
      ]
    }
  ],
  "metadata": {
    "accelerator": "GPU",
    "colab": {
      "provenance": [],
      "gpuType": "T4",
      "include_colab_link": true
    },
    "kernelspec": {
      "display_name": "Python 3",
      "name": "python3"
    },
    "language_info": {
      "codemirror_mode": {
        "name": "ipython",
        "version": 3
      },
      "file_extension": ".py",
      "mimetype": "text/x-python",
      "name": "python",
      "nbconvert_exporter": "python",
      "pygments_lexer": "ipython3",
      "version": "3.9.18"
    }
  },
  "nbformat": 4,
  "nbformat_minor": 0
}