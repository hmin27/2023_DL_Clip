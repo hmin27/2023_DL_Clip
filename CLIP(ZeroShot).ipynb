{
  "nbformat": 4,
  "nbformat_minor": 0,
  "metadata": {
    "colab": {
      "provenance": [],
      "gpuType": "T4",
      "mount_file_id": "1eN2AQHt2Y1nGKweyCviIDeAOl9y_EmZU",
      "authorship_tag": "ABX9TyMXOSZoPjZjhAdcNXYGFe7f",
      "include_colab_link": true
    },
    "kernelspec": {
      "name": "python3",
      "display_name": "Python 3"
    },
    "language_info": {
      "name": "python"
    },
    "accelerator": "GPU"
  },
  "cells": [
    {
      "cell_type": "markdown",
      "metadata": {
        "id": "view-in-github",
        "colab_type": "text"
      },
      "source": [
        "<a href=\"https://colab.research.google.com/github/hmin27/2023_DL_Clip/blob/main/CLIP(ZeroShot).ipynb\" target=\"_parent\"><img src=\"https://colab.research.google.com/assets/colab-badge.svg\" alt=\"Open In Colab\"/></a>"
      ]
    },
    {
      "cell_type": "code",
      "execution_count": null,
      "metadata": {
        "id": "o8f22F6l1qTT"
      },
      "outputs": [],
      "source": [
        "! pip install ftfy regex tqdm\n",
        "! pip install git+https://github.com/openai/CLIP.git"
      ]
    },
    {
      "cell_type": "markdown",
      "source": [
        "# Load CLIP model"
      ],
      "metadata": {
        "id": "prVxJW1m2gH0"
      }
    },
    {
      "cell_type": "code",
      "source": [
        "import numpy as np\n",
        "import torch\n",
        "from pkg_resources import packaging\n",
        "import pandas as pd\n",
        "import clip\n",
        "from torchvision import transforms\n",
        "from torchvision.datasets import ImageFolder\n",
        "from torch.utils.data import DataLoader\n",
        "from PIL import Image\n",
        "import matplotlib.pyplot as plt\n",
        "\n",
        "\n",
        "print(\"Torch version:\", torch.__version__)"
      ],
      "metadata": {
        "colab": {
          "base_uri": "https://localhost:8080/"
        },
        "id": "SEzgKiiu1uhu",
        "outputId": "41a6eb76-a174-4437-f90c-690aceecdc5d"
      },
      "execution_count": null,
      "outputs": [
        {
          "output_type": "stream",
          "name": "stdout",
          "text": [
            "Torch version: 2.1.0+cu118\n"
          ]
        }
      ]
    },
    {
      "cell_type": "code",
      "source": [
        "# 드라이브에 연결\n",
        "\n",
        "from google.colab import drive\n",
        "drive.mount('/content/drive', force_remount=True)"
      ],
      "metadata": {
        "colab": {
          "base_uri": "https://localhost:8080/"
        },
        "id": "M5NsGWtK5LzU",
        "outputId": "d702a49b-58a9-4f6f-ce32-27ccbfb34749"
      },
      "execution_count": null,
      "outputs": [
        {
          "output_type": "stream",
          "name": "stdout",
          "text": [
            "Mounted at /content/drive\n"
          ]
        }
      ]
    },
    {
      "cell_type": "code",
      "source": [
        "# Load the model\n",
        "device = \"cuda\" if torch.cuda.is_available() else \"cpu\"\n",
        "model, preprocess = clip.load('ViT-B/32', device)"
      ],
      "metadata": {
        "id": "lSMTMZUKB4--"
      },
      "execution_count": null,
      "outputs": []
    },
    {
      "cell_type": "markdown",
      "source": [
        "# Zero shot Image Classification"
      ],
      "metadata": {
        "id": "GTQLTTD84S11"
      }
    },
    {
      "cell_type": "code",
      "source": [
        "# Creating image path, text list\n",
        "import pandas as pd\n",
        "import os\n",
        "\n",
        "data_folder = '/content/drive/MyDrive/Study/DL_CLIP/Food_fewshot/4_shot/test'\n",
        "\n",
        "image_paths = []\n",
        "text_descriptions = []\n",
        "class_folders = sorted(os.listdir(data_folder))\n",
        "\n",
        "for class_folder in class_folders:\n",
        "    class_folder_path = os.path.join(data_folder, class_folder)\n",
        "    image_files = sorted(os.listdir(class_folder_path))\n",
        "\n",
        "    # Create text description using class label\n",
        "    text_description = f\"a photo of {class_folder.replace('_',' ')}\"\n",
        "    text_descriptions.append(text_description)\n",
        "\n",
        "    for image_file in image_files:\n",
        "        image_path = os.path.join(class_folder_path, image_file)\n",
        "        image_paths.append(image_path)\n",
        "\n",
        "\n",
        "\n",
        "print(text_descriptions)  # 33개\n",
        "print(len(image_paths))  # 132개"
      ],
      "metadata": {
        "id": "Zql16bZyA-hj"
      },
      "execution_count": null,
      "outputs": []
    },
    {
      "cell_type": "code",
      "source": [
        "data_root = '/content/drive/MyDrive/Study/DL_CLIP/Food_fewshot/4_shot/test'\n",
        "\n",
        "dataset = ImageFolder(data_root)\n",
        "dataloader = DataLoader(dataset, batch_size=4, shuffle=True)\n",
        "\n",
        "# Prepare the inputs\n",
        "image, class_id = dataset[20]\n",
        "print(class_id)\n",
        "plt.subplot(2, 4, 2)\n",
        "plt.imshow(image)\n",
        "plt.title(f\"{text_descriptions[class_id]}\")\n",
        "plt.xticks([])\n",
        "plt.yticks([])\n",
        "\n",
        "image_input = preprocess(image).unsqueeze(0).to(device)\n",
        "text_inputs = torch.cat([clip.tokenize(f\"a photo of a {c}\") for c in dataset.classes]).to(device)\n",
        "\n",
        "print(text_inputs.shape)"
      ],
      "metadata": {
        "id": "glmB8PSr4Mn6",
        "colab": {
          "base_uri": "https://localhost:8080/",
          "height": 150
        },
        "outputId": "f36c84f8-6684-4988-b7f7-69e8e3c40462"
      },
      "execution_count": null,
      "outputs": [
        {
          "output_type": "stream",
          "name": "stdout",
          "text": [
            "5\n",
            "torch.Size([33, 77])\n"
          ]
        },
        {
          "output_type": "display_data",
          "data": {
            "text/plain": [
              "<Figure size 640x480 with 1 Axes>"
            ],
            "image/png": "[encoded data removed]"
          },
          "metadata": {}
        }
      ]
    },
    {
      "cell_type": "code",
      "source": [
        "# Calculate features\n",
        "with torch.no_grad():\n",
        "    image_features = model.encode_image(image_input)\n",
        "    text_features = model.encode_text(text_inputs)\n",
        "\n",
        "# Pick the top 5 most similar labels for the image\n",
        "image_features /= image_features.norm(dim=-1, keepdim=True)\n",
        "text_features /= text_features.norm(dim=-1, keepdim=True)\n",
        "similarity = (100.0 * image_features @ text_features.T).softmax(dim=-1)\n",
        "values, indices = similarity[0].topk(10)"
      ],
      "metadata": {
        "id": "4cLXlHk98fCe"
      },
      "execution_count": null,
      "outputs": []
    },
    {
      "cell_type": "code",
      "source": [
        "# Print the result\n",
        "print(\"\\nTop predictions:\\n\")\n",
        "for value, index in zip(values, indices):\n",
        "    print(f\"{dataset.classes[index]:>16s}: {100 * value.item():.2f}%\")"
      ],
      "metadata": {
        "colab": {
          "base_uri": "https://localhost:8080/"
        },
        "id": "DiF36l4q8hWR",
        "outputId": "1ed7e43e-17b8-4a50-8577-426010f25dac"
      },
      "execution_count": null,
      "outputs": [
        {
          "output_type": "stream",
          "name": "stdout",
          "text": [
            "\n",
            "Top predictions:\n",
            "\n",
            "         chapati: 50.63%\n",
            "   chole_bhature: 28.42%\n",
            "     butter_naan: 11.13%\n",
            "     masala_dosa: 3.67%\n",
            "      paani_puri: 2.52%\n",
            "     dal_makhani: 1.17%\n",
            "            idli: 0.71%\n",
            "       pav_bhaji: 0.48%\n",
            "          dhokla: 0.39%\n",
            "            taco: 0.22%\n"
          ]
        }
      ]
    },
    {
      "cell_type": "code",
      "source": [
        "\n",
        "all_predictions_top1 = []\n",
        "all_predictions_top3 = []\n",
        "\n",
        "with torch.no_grad():\n",
        "    for index in range(len(dataset)):\n",
        "        image, class_id = dataset[index]\n",
        "\n",
        "        image_input = preprocess(image).unsqueeze(0).to(device)\n",
        "        text_inputs = torch.cat([clip.tokenize(f\"a photo of a {c}\") for c in dataset.classes]).to(device)\n",
        "\n",
        "        # Calculate features\n",
        "        image_features = model.encode_image(image_input)\n",
        "        text_features = model.encode_text(text_inputs)\n",
        "\n",
        "        image_features /= image_features.norm(dim=-1, keepdim=True)\n",
        "        text_features /= text_features.norm(dim=-1, keepdim=True)\n",
        "        similarity = (100.0 * image_features @ text_features.T).softmax(dim=-1)\n",
        "\n",
        "        # Top1 and Top3 Accuracy\n",
        "        values, indices = similarity[0].topk(1)\n",
        "        top1_prediction = indices.item()\n",
        "        all_predictions_top1.append(top1_prediction)\n",
        "\n",
        "        values_top3, indices_top3 = similarity[0].topk(3)\n",
        "        top3_predictions = indices_top3.tolist()\n",
        "        all_predictions_top3.append(top3_predictions)\n",
        "\n",
        "# Calculate the top-1 accuracy\n",
        "correct_predictions_top1 = sum([1 for pred, (_, true_label) in zip(all_predictions_top1, dataset.imgs) if pred == true_label])\n",
        "accuracy_top1 = correct_predictions_top1 / len(dataset)\n",
        "\n",
        "# Calculate the top-3 accuracy\n",
        "correct_predictions_top3 = sum([1 for pred, (_, true_label) in zip(all_predictions_top3, dataset.imgs) if true_label in pred])\n",
        "accuracy_top3 = correct_predictions_top3 / len(dataset)\n",
        "\n",
        "print(f\"Top-1 accuracy: {accuracy_top1 * 100:.2f}%\")\n",
        "print(f\"Top-3 accuracy: {accuracy_top3 * 100:.2f}%\")"
      ],
      "metadata": {
        "id": "-YNLqgW-8io-",
        "colab": {
          "base_uri": "https://localhost:8080/"
        },
        "outputId": "8943e75f-209d-4d56-82cc-f487d34e3d6a"
      },
      "execution_count": null,
      "outputs": [
        {
          "output_type": "stream",
          "name": "stdout",
          "text": [
            "Top-1 accuracy: 82.58%\n",
            "Top-3 accuracy: 93.18%\n"
          ]
        }
      ]
    }
  ]
}