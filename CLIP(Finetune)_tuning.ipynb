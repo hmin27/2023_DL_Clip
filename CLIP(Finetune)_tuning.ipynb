{
  "cells": [
    {
      "cell_type": "markdown",
      "metadata": {
        "id": "view-in-github",
        "colab_type": "text"
      },
      "source": [
        "<a href=\"https://colab.research.google.com/github/hmin27/2023_DL_Clip/blob/main/CLIP(Finetune)_tuning.ipynb\" target=\"_parent\"><img src=\"https://colab.research.google.com/assets/colab-badge.svg\" alt=\"Open In Colab\"/></a>"
      ]
    },
    {
      "cell_type": "markdown",
      "metadata": {
        "id": "rx2hKkBgzUkz"
      },
      "source": [
        "# CLIP Fine tuning\n",
        "- Food image classification with 4shot dataset\n",
        "- Hyperparameter Tuning\n",
        "  (Batch size, Learning Rate, Momentum, Weight Decay)\n",
        "- Evaluating with Validation set\n"
      ]
    },
    {
      "cell_type": "code",
      "execution_count": null,
      "metadata": {
        "id": "UU5QbpXrDWUl"
      },
      "outputs": [],
      "source": [
        "!pip install ftfy regex tqdm\n",
        "!pip install git+https://github.com/openai/CLIP.git"
      ]
    },
    {
      "cell_type": "code",
      "execution_count": 6,
      "metadata": {
        "colab": {
          "base_uri": "https://localhost:8080/"
        },
        "id": "wc7W2ooyDcLZ",
        "outputId": "1c9bc8f3-037b-4bb2-8c02-c128b237c66d"
      },
      "outputs": [
        {
          "output_type": "stream",
          "name": "stdout",
          "text": [
            "cuda:0\n"
          ]
        }
      ],
      "source": [
        "import os\n",
        "import clip\n",
        "import torch\n",
        "from torch import nn, optim\n",
        "from PIL import Image\n",
        "from torch.utils.data import Dataset, DataLoader, random_split\n",
        "from torchvision.datasets import ImageFolder\n",
        "from tqdm.notebook import tqdm\n",
        "import shutil\n",
        "\n",
        "%matplotlib inline\n",
        "BATCH_SIZE = 4\n",
        "EPOCH = 50\n",
        "LR = 1e-7\n",
        "MOMENTUM = 0.9\n",
        "WEIGHT_DECAY = 1e-5\n",
        "\n",
        "device = torch.device(\"cuda:0\" if torch.cuda.is_available() else \"cpu\")\n",
        "print(device)"
      ]
    },
    {
      "cell_type": "markdown",
      "metadata": {
        "id": "p52DoKG6DmVA"
      },
      "source": [
        "# Prepare the Model and Data"
      ]
    },
    {
      "cell_type": "code",
      "execution_count": 2,
      "metadata": {
        "colab": {
          "base_uri": "https://localhost:8080/"
        },
        "id": "RnmtrDVrE9xn",
        "outputId": "6d6d8d10-93a9-4110-e334-2bfc16d50e38"
      },
      "outputs": [
        {
          "output_type": "stream",
          "name": "stdout",
          "text": [
            "Mounted at /content/drive\n"
          ]
        }
      ],
      "source": [
        "from google.colab import drive\n",
        "drive.mount('/content/drive')"
      ]
    },
    {
      "cell_type": "code",
      "execution_count": 5,
      "metadata": {
        "colab": {
          "base_uri": "https://localhost:8080/"
        },
        "id": "X4faeiH7QkCV",
        "outputId": "8614eca0-c437-43ed-d484-ab1c46996d41"
      },
      "outputs": [
        {
          "output_type": "stream",
          "name": "stderr",
          "text": [
            "100%|████████████████████████████████████████| 338M/338M [00:02<00:00, 144MiB/s]\n"
          ]
        }
      ],
      "source": [
        "model, preprocess = clip.load(\"ViT-B/32\", device=device, jit=False)\n",
        "model = model.to(torch.float32)"
      ]
    },
    {
      "cell_type": "code",
      "execution_count": 7,
      "metadata": {
        "colab": {
          "base_uri": "https://localhost:8080/"
        },
        "id": "9jQJbvvnkR2w",
        "outputId": "8fb9dae0-8758-4222-9819-29c1c18e5646"
      },
      "outputs": [
        {
          "output_type": "stream",
          "name": "stdout",
          "text": [
            "['apple pie', 'baked potato', 'burger', 'butter naan', 'chai', 'chapati', 'cheesecake', 'chicken curry', 'chole bhature', 'crispy chicken', 'dal makhani', 'dhokla', 'donut', 'fried rice', 'fries', 'hot dog', 'ice cream', 'idli', 'jalebi', 'kaathi rolls', 'kadai paneer', 'kulfi', 'masala dosa', 'momos', 'omelette', 'paani puri', 'pakode', 'pav bhaji', 'pizza', 'samosa', 'sandwich', 'sushi', 'taco']\n"
          ]
        }
      ],
      "source": [
        "# Creating class name list\n",
        "import pandas as pd\n",
        "import os\n",
        "\n",
        "data_folder = '/content/drive/MyDrive/Study/DL_CLIP/Food_fewshot/4_shot/train'\n",
        "class_list = []\n",
        "class_folders = sorted(os.listdir(data_folder))\n",
        "\n",
        "for class_folder in class_folders:\n",
        "    class_folder_path = os.path.join(data_folder, class_folder)\n",
        "    image_files = sorted(os.listdir(class_folder_path))\n",
        "\n",
        "    # Create text description using class label\n",
        "    classes = f\"{class_folder.replace('_',' ')}\"\n",
        "    class_list.append(classes)\n",
        "\n",
        "\n",
        "print(class_list)  # 33개"
      ]
    },
    {
      "cell_type": "code",
      "execution_count": 8,
      "metadata": {
        "colab": {
          "base_uri": "https://localhost:8080/"
        },
        "id": "QAbI2GPpkUYE",
        "outputId": "4aaac6d0-3bf5-48f4-98b1-7efbdbdcc420"
      },
      "outputs": [
        {
          "output_type": "stream",
          "name": "stdout",
          "text": [
            "132\n"
          ]
        }
      ],
      "source": [
        "# Few-shot learning\n",
        "\n",
        "class FewshotDataset(Dataset):\n",
        "    def __init__(self, data_folder, preprocess):\n",
        "        self.data_folder = data_folder\n",
        "        self.preprocess = preprocess\n",
        "        self.image_paths = []\n",
        "        self.text_descriptions = []\n",
        "        self.labels = []\n",
        "\n",
        "        # image path list, text list\n",
        "        class_folders = sorted(os.listdir(data_folder))\n",
        "\n",
        "        for label, class_folder in enumerate(class_folders):\n",
        "            class_folder_path = os.path.join(data_folder, class_folder)\n",
        "            image_files = sorted(os.listdir(class_folder_path))\n",
        "\n",
        "            for image_file in image_files:\n",
        "                image_path = os.path.join(class_folder_path, image_file)\n",
        "                self.image_paths.append(image_path)\n",
        "\n",
        "                text_description = f\"a photo of {class_folder.replace('_', ' ')}\"\n",
        "                self.text_descriptions.append(text_description)\n",
        "\n",
        "                self.labels.append(label)\n",
        "\n",
        "    def __len__(self):\n",
        "        return len(self.image_paths)\n",
        "\n",
        "    def __getitem__(self, idx):\n",
        "        image = Image.open(self.image_paths[idx])\n",
        "        image = self.preprocess(image)\n",
        "        text = self.text_descriptions[idx]\n",
        "        label = self.labels[idx]\n",
        "        return image, text, label\n",
        "\n",
        "\n",
        "data_folder = '/content/drive/MyDrive/Study/DL_CLIP/Food_fewshot/4_shot'\n",
        "\n",
        "# Use augmentations in the train dataset\n",
        "train_dataset = FewshotDataset(os.path.join(data_folder, 'train'), preprocess)\n",
        "val_dataset = FewshotDataset(os.path.join(data_folder, 'validation'), preprocess)\n",
        "test_dataset = FewshotDataset(os.path.join(data_folder, 'test'), preprocess)\n",
        "\n",
        "# Create DataLoader instances\n",
        "trainloader = DataLoader(train_dataset, batch_size=BATCH_SIZE, shuffle=True)\n",
        "valloader = DataLoader(val_dataset, batch_size=BATCH_SIZE, shuffle=False)\n",
        "testloader = DataLoader(test_dataset, batch_size=BATCH_SIZE, shuffle=False)\n",
        "\n",
        "\n",
        "print(len(train_dataset))  # 132"
      ]
    },
    {
      "cell_type": "code",
      "execution_count": 11,
      "metadata": {
        "colab": {
          "base_uri": "https://localhost:8080/",
          "height": 288
        },
        "id": "ztG9Tqz-v1vs",
        "outputId": "4bf0306f-41f5-43d8-d9f0-55fb8194e98f"
      },
      "outputs": [
        {
          "output_type": "stream",
          "name": "stderr",
          "text": [
            "WARNING:matplotlib.image:Clipping input data to the valid range for imshow with RGB data ([0..1] for floats or [0..255] for integers).\n"
          ]
        },
        {
          "output_type": "stream",
          "name": "stdout",
          "text": [
            "Image Path: torch.Size([3, 224, 224])\n",
            "Text Description: a photo of crispy chicken\n",
            "4\n",
            "Label:  tensor([ 9, 28, 10, 11])\n",
            "torch.Size([4])\n",
            "torch.Size([4])\n"
          ]
        },
        {
          "output_type": "display_data",
          "data": {
            "text/plain": [
              "<Figure size 640x480 with 1 Axes>"
            ],
            "image/png": "[encoded data removed]"
          },
          "metadata": {}
        }
      ],
      "source": [
        "from numpy.lib import shape_base\n",
        "import matplotlib.pyplot as plt\n",
        "\n",
        "for batch in trainloader:\n",
        "    images, texts, labels = batch\n",
        "    # Print the first batch\n",
        "\n",
        "    print(\"Image Path:\", images[0].shape)\n",
        "    print(\"Text Description:\", texts[0])\n",
        "    print(len(texts))\n",
        "    print(\"Label: \", labels)\n",
        "    print(labels.shape)\n",
        "    print(torch.unique(labels).shape)\n",
        "\n",
        "\n",
        "    plt.subplot(2, 4, 2)\n",
        "    image = images[0].numpy().transpose((1, 2, 0))\n",
        "    plt.imshow(image)\n",
        "    plt.title(f\"{texts[0]}\")\n",
        "    plt.xticks([])\n",
        "    plt.yticks([])\n",
        "\n",
        "    break"
      ]
    },
    {
      "cell_type": "markdown",
      "metadata": {
        "id": "fL2zwBDdNvZw"
      },
      "source": [
        "# Loss and Optimizer\n"
      ]
    },
    {
      "cell_type": "code",
      "execution_count": null,
      "metadata": {
        "id": "KlgzBPDONu3x"
      },
      "outputs": [],
      "source": [
        "def convert_models_to_fp32(model):\n",
        "    for p in model.parameters():\n",
        "        p.data = p.data.float()\n",
        "        p.grad.data = p.grad.data.float()\n",
        "\n",
        "loss_img = nn.CrossEntropyLoss()\n",
        "loss_txt = nn.CrossEntropyLoss()\n",
        "\n",
        "optimizer = optim.SGD(model.parameters(), lr=LR)\n",
        "\n",
        "device = torch.device(\"cuda\" if torch.cuda.is_available() else \"cpu\")\n",
        "model = model.to(device)\n",
        "\n",
        "print(LR)\n"
      ]
    },
    {
      "cell_type": "markdown",
      "metadata": {
        "id": "ohM8hR0AgTkL"
      },
      "source": [
        "#Train and validation"
      ]
    },
    {
      "cell_type": "code",
      "execution_count": null,
      "metadata": {
        "id": "w8xqpbMsLP8X"
      },
      "outputs": [],
      "source": [
        "import matplotlib.pyplot as plt\n",
        "best_te_loss = 1e5\n",
        "best_ep = -1\n",
        "\n",
        "train_losses = []\n",
        "val_losses = []\n",
        "\n",
        "for epoch in range(EPOCH):\n",
        "    print(f\"Epoch: {epoch+1}\")\n",
        "\n",
        "    # Training loop\n",
        "    model.train()\n",
        "    train_loss = 0\n",
        "    step = 0\n",
        "    pbar = tqdm(trainloader, total=len(trainloader))\n",
        "    for batch in pbar:\n",
        "        step += 1\n",
        "        optimizer.zero_grad()\n",
        "\n",
        "        images, texts, _ = batch\n",
        "        texts = clip.tokenize(texts).to(device)\n",
        "        images = images.to(device)\n",
        "\n",
        "        logits_per_image, logits_per_text = model(images, texts)\n",
        "\n",
        "        # Compute loss\n",
        "        actual_batch_size = images.size(0)\n",
        "        ground_truth = torch.arange(actual_batch_size).to(device)\n",
        "        total_loss = (loss_img(logits_per_image, ground_truth) + loss_txt(logits_per_text, ground_truth)) / 2\n",
        "        train_loss += total_loss.item()\n",
        "\n",
        "        total_loss.backward()\n",
        "\n",
        "        if device == \"cpu\":\n",
        "            optimizer.step()\n",
        "        else :\n",
        "            convert_models_to_fp32(model)\n",
        "            optimizer.step()\n",
        "            clip.model.convert_weights(model)\n",
        "\n",
        "        pbar.set_description(f\"Epoch {epoch+1}/{EPOCH}, Train Loss: {total_loss.item():.4f}\", refresh=True)\n",
        "    train_loss /= step\n",
        "    train_losses.append(train_loss)\n",
        "\n",
        "\n",
        "    # Validation loop\n",
        "    val_loss = 0\n",
        "    step = 0\n",
        "    with torch.no_grad():\n",
        "        model.eval()\n",
        "        test_pbar = tqdm(valloader, total = len(valloader))\n",
        "        for batch in test_pbar:\n",
        "            step += 1\n",
        "            images, texts, _ = batch\n",
        "            images = images.to(device)\n",
        "            texts = clip.tokenize(texts).to(device)\n",
        "\n",
        "            logits_per_image, logits_per_text = model(images, texts)\n",
        "\n",
        "            actual_batch_size = logits_per_image.size(0)\n",
        "            ground_truth = torch.arange(actual_batch_size).to(device)\n",
        "            total_loss = (loss_img(logits_per_image,ground_truth) + loss_txt(logits_per_text,ground_truth))/2\n",
        "            val_loss += total_loss.item()\n",
        "\n",
        "            test_pbar.set_description(f\"Epoch {epoch+1}/{EPOCH}, Validation Loss: {total_loss.item():.4f}\", refresh=True)\n",
        "        val_loss /= step\n",
        "        val_losses.append(val_loss)\n",
        "\n",
        "    if val_loss < best_te_loss:\n",
        "        best_te_loss = val_loss\n",
        "        best_ep = epoch\n",
        "        torch.save(model.state_dict(), \"best_model.pt\")\n",
        "\n",
        "    print(f\"epoch {epoch+1}, Train Loss {train_loss}, Validation Loss {val_loss}\")\n",
        "\n",
        "plt.plot(range(1, EPOCH+1), train_losses, label='Train Loss')\n",
        "plt.plot(range(1, EPOCH+1), val_losses, label='Validation Loss')\n",
        "plt.xlabel('Epoch')\n",
        "plt.ylabel('Loss')\n",
        "plt.title('Training and Validation Losses over Epochs')\n",
        "plt.legend()\n",
        "plt.show()"
      ]
    },
    {
      "cell_type": "code",
      "execution_count": null,
      "metadata": {
        "colab": {
          "base_uri": "https://localhost:8080/",
          "height": 35
        },
        "id": "hcveGi9uSziV",
        "outputId": "a6686567-e473-4fbc-9bd5-54b27463c8cf"
      },
      "outputs": [
        {
          "output_type": "execute_result",
          "data": {
            "text/plain": [
              "'/content/drive/MyDrive/Study/DL_CLIP/model/CLIP_4shot_lr5_adam_w.pth'"
            ],
            "application/vnd.google.colaboratory.intrinsic+json": {
              "type": "string"
            }
          },
          "metadata": {},
          "execution_count": 22
        }
      ],
      "source": [
        "torch.save(model.state_dict(), 'CLIP_4shot_lr5_adam_w.pth')\n",
        "shutil.copy('CLIP_4shot_lr5_adam_w.pth', '/content/drive/MyDrive/Study/DL_CLIP/model/CLIP_4shot_lr5_adam_w.pth')"
      ]
    },
    {
      "cell_type": "code",
      "source": [
        "# check the text and label in datatset\n",
        "num_samples = 10\n",
        "train_samples = [(val_dataset[i][1], val_dataset[i][2]) for i in range(num_samples)]\n",
        "\n",
        "for text, label in train_samples:\n",
        "    print(f\"Text: {text}, Label: {label}\")\n"
      ],
      "metadata": {
        "id": "cUYgRiUyGbIB"
      },
      "execution_count": null,
      "outputs": []
    },
    {
      "cell_type": "markdown",
      "source": [
        "# Evaluate with the Validation set\n"
      ],
      "metadata": {
        "id": "KpHZl4d70jvr"
      }
    },
    {
      "cell_type": "code",
      "source": [
        "model.load_state_dict(torch.load('best_model.pt'))\n",
        "model.eval()\n",
        "\n",
        "val_correct_top1 = 0\n",
        "val_correct_top3 = 0\n",
        "total_val_samples = len(valloader.dataset)\n",
        "\n",
        "with torch.no_grad():\n",
        "    for val_batch in valloader:\n",
        "        val_images, val_texts, val_labels = val_batch\n",
        "        val_images = val_images.to(device)\n",
        "        val_texts =  torch.cat([clip.tokenize(f\"a photo of a {c}\") for c in class_list]).to(device)\n",
        "        val_labels = val_labels.to(device)\n",
        "\n",
        "        logits_per_image, _ = model(val_images, val_texts)\n",
        "\n",
        "        # Top-1 accuracy\n",
        "        val_top1_pred = logits_per_image.argmax(dim=1)\n",
        "        val_correct_top1 += (val_top1_pred == val_labels).sum().item()\n",
        "\n",
        "        # Top-3 accuracy\n",
        "        _, val_top3_pred = logits_per_image.topk(3, dim=1)\n",
        "        val_correct_top3 += val_top3_pred.eq(val_labels.view(-1, 1).expand_as(val_top3_pred)).sum().item()\n",
        "\n",
        "# Calculate accuracy\n",
        "val_top1_accuracy = val_correct_top1 / total_val_samples\n",
        "val_top3_accuracy = val_correct_top3 / total_val_samples\n",
        "\n",
        "print(f\"Validation Top-1 Accuracy: {val_top1_accuracy * 100:.2f}%\")\n",
        "print(f\"Validation Top-3 Accuracy: {val_top3_accuracy * 100:.2f}%\")"
      ],
      "metadata": {
        "id": "6ekdcNk-AxAX"
      },
      "execution_count": null,
      "outputs": []
    }
  ],
  "metadata": {
    "accelerator": "GPU",
    "colab": {
      "provenance": [],
      "gpuType": "T4",
      "include_colab_link": true
    },
    "kernelspec": {
      "display_name": "Python 3",
      "name": "python3"
    },
    "language_info": {
      "codemirror_mode": {
        "name": "ipython",
        "version": 3
      },
      "file_extension": ".py",
      "mimetype": "text/x-python",
      "name": "python",
      "nbconvert_exporter": "python",
      "pygments_lexer": "ipython3",
      "version": "3.9.18"
    }
  },
  "nbformat": 4,
  "nbformat_minor": 0
}