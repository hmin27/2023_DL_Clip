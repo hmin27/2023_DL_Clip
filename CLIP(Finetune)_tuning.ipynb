{
  "cells": [
    {
      "cell_type": "markdown",
      "metadata": {
        "id": "view-in-github",
        "colab_type": "text"
      },
      "source": [
        "<a href=\"https://colab.research.google.com/github/hmin27/2023_DL_Clip/blob/main/CLIP(Finetune)_tuning.ipynb\" target=\"_parent\"><img src=\"https://colab.research.google.com/assets/colab-badge.svg\" alt=\"Open In Colab\"/></a>"
      ]
    },
    {
      "cell_type": "markdown",
      "metadata": {
        "id": "rx2hKkBgzUkz"
      },
      "source": [
        "# CLIP Fine tuning (FSL)\n",
        "- Image classification with 4shot dataset\n",
        "- Hyperparameter Tuning\n",
        "  (Batch size, Learning Rate, Momentum, Weight Decay)\n",
        "- Evaluating with Validation set(Top k accuracy)\n"
      ]
    },
    {
      "cell_type": "code",
      "execution_count": 61,
      "metadata": {
        "id": "UU5QbpXrDWUl"
      },
      "outputs": [],
      "source": [
        "!pip install ftfy regex tqdm\n",
        "!pip install git+https://github.com/openai/CLIP.git"
      ]
    },
    {
      "cell_type": "code",
      "execution_count": 62,
      "metadata": {
        "colab": {
          "base_uri": "https://localhost:8080/"
        },
        "id": "wc7W2ooyDcLZ",
        "outputId": "7db90b75-8b71-4919-8c55-53766f028a80"
      },
      "outputs": [
        {
          "output_type": "stream",
          "name": "stdout",
          "text": [
            "cuda:0\n"
          ]
        }
      ],
      "source": [
        "import os\n",
        "import clip\n",
        "import torch\n",
        "from torch import nn, optim\n",
        "from PIL import Image\n",
        "from torch.utils.data import Dataset, DataLoader, random_split\n",
        "from torchvision.datasets import ImageFolder\n",
        "from tqdm.notebook import tqdm\n",
        "import shutil\n",
        "import numpy as np\n",
        "\n",
        "%matplotlib inline\n",
        "\n",
        "device = torch.device(\"cuda:0\" if torch.cuda.is_available() else \"cpu\")\n",
        "print(device)"
      ]
    },
    {
      "cell_type": "code",
      "execution_count": 63,
      "metadata": {
        "colab": {
          "base_uri": "https://localhost:8080/"
        },
        "id": "0q8xk9jCL9jD",
        "outputId": "9800e519-3610-4411-b499-0b781f45c390"
      },
      "outputs": [
        {
          "output_type": "stream",
          "name": "stdout",
          "text": [
            "LR: 1e-05, BATCH_SIZE: 4, MOMENTUM: 0.0\n"
          ]
        }
      ],
      "source": [
        "# Hyperparameter Configuration\n",
        "EPOCH = 30\n",
        "WEIGHT_DECAY = 1e-5\n",
        "\n",
        "# Momentum Experiment\n",
        "experiment_configurations = [\n",
        "    # Momentum change\n",
        "    {\"lr\": 1e-5, \"batch_size\": 4, \"momentum\": 0.0},\n",
        "    {\"lr\": 1e-5, \"batch_size\": 4, \"momentum\": 0.8},\n",
        "    {\"lr\": 1e-5, \"batch_size\": 4, \"momentum\": 0.9},\n",
        "    {\"lr\": 1e-5, \"batch_size\": 4, \"momentum\": 0.95},\n",
        "    {\"lr\": 1e-5, \"batch_size\": 4, \"momentum\": 0.99},\n",
        "    # Batch size + Learning Rate with / without Momentum\n",
        "    {\"lr\": 1e-6, \"batch_size\": 4, \"momentum\": 0.0},\n",
        "    {\"lr\": 5e-5, \"batch_size\": 4, \"momentum\": 0.0},\n",
        "    {\"lr\": 1e-5, \"batch_size\": 4, \"momentum\": 0.0},\n",
        "    {\"lr\": 1e-6, \"batch_size\": 64, \"momentum\": 0.0},\n",
        "    {\"lr\": 5e-5, \"batch_size\": 64, \"momentum\": 0.0},\n",
        "    {\"lr\": 1e-5, \"batch_size\": 64, \"momentum\": 0.0},\n",
        "    {\"lr\": 1e-6, \"batch_size\": 4, \"momentum\": 0.9},\n",
        "    {\"lr\": 5e-5, \"batch_size\": 4, \"momentum\": 0.9},\n",
        "    {\"lr\": 1e-5, \"batch_size\": 4, \"momentum\": 0.9},\n",
        "    {\"lr\": 1e-6, \"batch_size\": 64, \"momentum\": 0.9},\n",
        "    {\"lr\": 5e-5, \"batch_size\": 64, \"momentum\": 0.9},\n",
        "    {\"lr\": 1e-5, \"batch_size\": 64, \"momentum\": 0.9},\n",
        "]\n",
        "\n",
        "\n",
        "conf = experiment_configurations[0]\n",
        "LR = conf['lr']\n",
        "BATCH_SIZE = conf[\"batch_size\"]\n",
        "MOMENTUM = conf[\"momentum\"]\n",
        "\n",
        "print(f\"LR: {LR}, BATCH_SIZE: {BATCH_SIZE}, MOMENTUM: {MOMENTUM}\")"
      ]
    },
    {
      "cell_type": "markdown",
      "metadata": {
        "id": "p52DoKG6DmVA"
      },
      "source": [
        "# Prepare the Model and Data"
      ]
    },
    {
      "cell_type": "code",
      "execution_count": null,
      "metadata": {
        "id": "RnmtrDVrE9xn"
      },
      "outputs": [],
      "source": [
        "from google.colab import drive\n",
        "drive.mount('/content/drive')"
      ]
    },
    {
      "cell_type": "code",
      "execution_count": 71,
      "metadata": {
        "id": "X4faeiH7QkCV"
      },
      "outputs": [],
      "source": [
        "model, preprocess = clip.load(\"ViT-B/32\", device=device, jit=False)\n",
        "model = model.to(torch.float32)"
      ]
    },
    {
      "cell_type": "code",
      "execution_count": 72,
      "metadata": {
        "colab": {
          "base_uri": "https://localhost:8080/"
        },
        "id": "9jQJbvvnkR2w",
        "outputId": "d1a025b3-a0c5-469e-de4a-1ef6ca067439"
      },
      "outputs": [
        {
          "output_type": "stream",
          "name": "stdout",
          "text": [
            "['AM General Hummer SUV 2000', 'Acura Integra Type R 2001', 'Acura RL Sedan 2012', 'Acura TL Sedan 2012', 'Acura TL Type-S 2008', 'Acura TSX Sedan 2012', 'Acura ZDX Hatchback 2012', 'Aston Martin V8 Vantage Convertible 2012', 'Aston Martin V8 Vantage Coupe 2012', 'Aston Martin Virage Convertible 2012', 'Aston Martin Virage Coupe 2012', 'Audi 100 Sedan 1994', 'Audi 100 Wagon 1994', 'Audi A5 Coupe 2012', 'Audi R8 Coupe 2012', 'Audi RS 4 Convertible 2008', 'Audi S4 Sedan 2007', 'Audi S4 Sedan 2012', 'Audi S5 Convertible 2012', 'Audi S5 Coupe 2012', 'Audi S6 Sedan 2011', 'Audi TT Hatchback 2011', 'Audi TT RS Coupe 2012', 'Audi TTS Coupe 2012', 'Audi V8 Sedan 1994', 'BMW 1 Series Convertible 2012', 'BMW 1 Series Coupe 2012', 'BMW 3 Series Sedan 2012', 'BMW 3 Series Wagon 2012', 'BMW 6 Series Convertible 2007', 'BMW ActiveHybrid 5 Sedan 2012', 'BMW M3 Coupe 2012', 'BMW M5 Sedan 2010', 'BMW M6 Convertible 2010', 'BMW X3 SUV 2012', 'BMW X5 SUV 2007', 'BMW X6 SUV 2012', 'BMW Z4 Convertible 2012', 'Bentley Arnage Sedan 2009', 'Bentley Continental Flying Spur Sedan 2007', 'Bentley Continental GT Coupe 2007', 'Bentley Continental GT Coupe 2012', 'Bentley Continental Supersports Conv. Convertible 2012', 'Bentley Mulsanne Sedan 2011', 'Bugatti Veyron 16.4 Convertible 2009', 'Bugatti Veyron 16.4 Coupe 2009', 'Buick Enclave SUV 2012', 'Buick Rainier SUV 2007', 'Buick Regal GS 2012', 'Buick Verano Sedan 2012', 'Cadillac CTS-V Sedan 2012', 'Cadillac Escalade EXT Crew Cab 2007', 'Cadillac SRX SUV 2012', 'Chevrolet Avalanche Crew Cab 2012', 'Chevrolet Camaro Convertible 2012', 'Chevrolet Cobalt SS 2010', 'Chevrolet Corvette Convertible 2012', 'Chevrolet Corvette Ron Fellows Edition Z06 2007', 'Chevrolet Corvette ZR1 2012', 'Chevrolet Express Cargo Van 2007', 'Chevrolet Express Van 2007', 'Chevrolet HHR SS 2010', 'Chevrolet Impala Sedan 2007', 'Chevrolet Malibu Hybrid Sedan 2010', 'Chevrolet Malibu Sedan 2007', 'Chevrolet Monte Carlo Coupe 2007', 'Chevrolet Silverado 1500 Classic Extended Cab 2007', 'Chevrolet Silverado 1500 Extended Cab 2012', 'Chevrolet Silverado 1500 Hybrid Crew Cab 2012', 'Chevrolet Silverado 1500 Regular Cab 2012', 'Chevrolet Silverado 2500HD Regular Cab 2012', 'Chevrolet Sonic Sedan 2012', 'Chevrolet Tahoe Hybrid SUV 2012', 'Chevrolet TrailBlazer SS 2009', 'Chevrolet Traverse SUV 2012', 'Chrysler 300 SRT-8 2010', 'Chrysler Aspen SUV 2009', 'Chrysler Crossfire Convertible 2008', 'Chrysler PT Cruiser Convertible 2008', 'Chrysler Sebring Convertible 2010', 'Chrysler Town and Country Minivan 2012', 'Daewoo Nubira Wagon 2002', 'Dodge Caliber Wagon 2007', 'Dodge Caliber Wagon 2012', 'Dodge Caravan Minivan 1997', 'Dodge Challenger SRT8 2011', 'Dodge Charger SRT-8 2009', 'Dodge Charger Sedan 2012', 'Dodge Dakota Club Cab 2007', 'Dodge Dakota Crew Cab 2010', 'Dodge Durango SUV 2007', 'Dodge Durango SUV 2012', 'Dodge Journey SUV 2012', 'Dodge Magnum Wagon 2008', 'Dodge Ram Pickup 3500 Crew Cab 2010', 'Dodge Ram Pickup 3500 Quad Cab 2009', 'Dodge Sprinter Cargo Van 2009', 'Eagle Talon Hatchback 1998', 'FIAT 500 Abarth 2012', 'FIAT 500 Convertible 2012', 'Ferrari 458 Italia Convertible 2012', 'Ferrari 458 Italia Coupe 2012', 'Ferrari California Convertible 2012', 'Ferrari FF Coupe 2012', 'Fisker Karma Sedan 2012', 'Ford E-Series Wagon Van 2012', 'Ford Edge SUV 2012', 'Ford Expedition EL SUV 2009', 'Ford F-150 Regular Cab 2007', 'Ford F-150 Regular Cab 2012', 'Ford F-450 Super Duty Crew Cab 2012', 'Ford Fiesta Sedan 2012', 'Ford Focus Sedan 2007', 'Ford Freestar Minivan 2007', 'Ford GT Coupe 2006', 'Ford Mustang Convertible 2007', 'Ford Ranger SuperCab 2011', 'GMC Acadia SUV 2012', 'GMC Canyon Extended Cab 2012', 'GMC Savana Van 2012', 'GMC Terrain SUV 2012', 'GMC Yukon Hybrid SUV 2012', 'Geo Metro Convertible 1993', 'HUMMER H2 SUT Crew Cab 2009', 'HUMMER H3T Crew Cab 2010', 'Honda Accord Coupe 2012', 'Honda Accord Sedan 2012', 'Honda Odyssey Minivan 2007', 'Honda Odyssey Minivan 2012', 'Hyundai Accent Sedan 2012', 'Hyundai Azera Sedan 2012', 'Hyundai Elantra Sedan 2007', 'Hyundai Elantra Touring Hatchback 2012', 'Hyundai Genesis Sedan 2012', 'Hyundai Santa Fe SUV 2012', 'Hyundai Sonata Hybrid Sedan 2012', 'Hyundai Sonata Sedan 2012', 'Hyundai Tucson SUV 2012', 'Hyundai Veloster Hatchback 2012', 'Hyundai Veracruz SUV 2012', 'Infiniti G Coupe IPL 2012', 'Infiniti QX56 SUV 2011', 'Isuzu Ascender SUV 2008', 'Jaguar XK XKR 2012', 'Jeep Compass SUV 2012', 'Jeep Grand Cherokee SUV 2012', 'Jeep Liberty SUV 2012', 'Jeep Patriot SUV 2012', 'Jeep Wrangler SUV 2012', 'Lamborghini Aventador Coupe 2012', 'Lamborghini Diablo Coupe 2001', 'Lamborghini Gallardo LP 570-4 Superleggera 2012', 'Lamborghini Reventon Coupe 2008', 'Land Rover LR2 SUV 2012', 'Land Rover Range Rover SUV 2012', 'Lincoln Town Car Sedan 2011', 'MINI Cooper Roadster Convertible 2012', 'Maybach Landaulet Convertible 2012', 'Mazda Tribute SUV 2011', 'McLaren MP4-12C Coupe 2012', 'Mercedes-Benz 300-Class Convertible 1993', 'Mercedes-Benz C-Class Sedan 2012', 'Mercedes-Benz E-Class Sedan 2012', 'Mercedes-Benz S-Class Sedan 2012', 'Mercedes-Benz SL-Class Coupe 2009', 'Mercedes-Benz Sprinter Van 2012', 'Mitsubishi Lancer Sedan 2012', 'Nissan 240SX Coupe 1998', 'Nissan Juke Hatchback 2012', 'Nissan Leaf Hatchback 2012', 'Nissan NV Passenger Van 2012', 'Plymouth Neon Coupe 1999', 'Porsche Panamera Sedan 2012', 'Ram C-V Cargo Van Minivan 2012', 'Rolls-Royce Ghost Sedan 2012', 'Rolls-Royce Phantom Drophead Coupe Convertible 2012', 'Rolls-Royce Phantom Sedan 2012', 'Scion xD Hatchback 2012', 'Spyker C8 Convertible 2009', 'Spyker C8 Coupe 2009', 'Suzuki Aerio Sedan 2007', 'Suzuki Kizashi Sedan 2012', 'Suzuki SX4 Hatchback 2012', 'Suzuki SX4 Sedan 2012', 'Tesla Model S Sedan 2012', 'Toyota 4Runner SUV 2012', 'Toyota Camry Sedan 2012', 'Toyota Corolla Sedan 2012', 'Toyota Sequoia SUV 2012', 'Volkswagen Beetle Hatchback 2012', 'Volkswagen Golf Hatchback 1991', 'Volkswagen Golf Hatchback 2012', 'Volvo 240 Sedan 1993', 'Volvo C30 Hatchback 2012', 'Volvo XC90 SUV 2007', 'smart fortwo Convertible 2012']\n",
            "196\n"
          ]
        }
      ],
      "source": [
        "# Creating class name list\n",
        "import pandas as pd\n",
        "import os\n",
        "\n",
        "data_folder = '/content/drive/MyDrive/Study/DL_CLIP/Data/StandfordCars_fewshot/4_shot/train'\n",
        "class_list = []\n",
        "class_folders = sorted(os.listdir(data_folder))\n",
        "\n",
        "for class_folder in class_folders:\n",
        "    class_folder_path = os.path.join(data_folder, class_folder)\n",
        "    image_files = sorted(os.listdir(class_folder_path))\n",
        "\n",
        "    # Create text description using class label\n",
        "    classes = f\"{class_folder.replace('_',' ')}\"\n",
        "    class_list.append(classes)\n",
        "\n",
        "print(class_list)"
      ]
    },
    {
      "cell_type": "code",
      "execution_count": 73,
      "metadata": {
        "colab": {
          "base_uri": "https://localhost:8080/"
        },
        "id": "QAbI2GPpkUYE",
        "outputId": "6d3d713d-17b4-41c3-da12-511c56ccb0d5"
      },
      "outputs": [
        {
          "output_type": "stream",
          "name": "stdout",
          "text": [
            "196\n",
            "196\n"
          ]
        }
      ],
      "source": [
        "# Few-shot learning\n",
        "\n",
        "class FewshotDataset(Dataset):\n",
        "    def __init__(self, data_folder, preprocess):\n",
        "        self.data_folder = data_folder\n",
        "        self.preprocess = preprocess\n",
        "        self.image_paths = []\n",
        "        self.text_descriptions = []\n",
        "        self.labels = []\n",
        "\n",
        "        # image path list, text list\n",
        "        class_folders = sorted(os.listdir(data_folder))\n",
        "\n",
        "        for label, class_folder in enumerate(class_folders):\n",
        "            class_folder_path = os.path.join(data_folder, class_folder)\n",
        "            image_files = sorted(os.listdir(class_folder_path))\n",
        "\n",
        "            for image_file in image_files:\n",
        "                image_path = os.path.join(class_folder_path, image_file)\n",
        "                self.image_paths.append(image_path)\n",
        "\n",
        "                text_description = f\"a photo of {class_folder.replace('_', ' ')}\"\n",
        "                self.text_descriptions.append(text_description)\n",
        "\n",
        "                self.labels.append(label)\n",
        "\n",
        "    def __len__(self):\n",
        "        return len(self.image_paths)\n",
        "\n",
        "    def __getitem__(self, idx):\n",
        "        image = Image.open(self.image_paths[idx])\n",
        "        image = self.preprocess(image)\n",
        "        text = self.text_descriptions[idx]\n",
        "        label = self.labels[idx]\n",
        "        return image, text, label\n",
        "\n",
        "# Random seed\n",
        "seed = 42\n",
        "np.random.seed(seed)\n",
        "torch.manual_seed(seed)\n",
        "\n",
        "data_folder = '/content/drive/MyDrive/Study/DL_CLIP/Data/StandfordCars_fewshot/4_shot'\n",
        "\n",
        "# Create datasets and dataloader\n",
        "train_dataset = FewshotDataset(os.path.join(data_folder, 'train'), preprocess)\n",
        "val_dataset = FewshotDataset(os.path.join(data_folder, 'validation'), preprocess)\n",
        "\n",
        "trainloader = DataLoader(train_dataset, batch_size=BATCH_SIZE, shuffle=True)\n",
        "valloader = DataLoader(val_dataset, batch_size=BATCH_SIZE, shuffle=False)"
      ]
    },
    {
      "cell_type": "code",
      "execution_count": 67,
      "metadata": {
        "colab": {
          "base_uri": "https://localhost:8080/",
          "height": 308
        },
        "id": "ztG9Tqz-v1vs",
        "outputId": "2a90a1e1-c6d8-4624-c936-6b32d1f0bfba"
      },
      "outputs": [
        {
          "output_type": "stream",
          "name": "stderr",
          "text": [
            "WARNING:matplotlib.image:Clipping input data to the valid range for imshow with RGB data ([0..1] for floats or [0..255] for integers).\n"
          ]
        },
        {
          "output_type": "stream",
          "name": "stdout",
          "text": [
            "Image Path: torch.Size([3, 224, 224])\n",
            "Text Description: a photo of F A-18\n",
            "4\n",
            "Label:  tensor([72, 74, 37, 51])\n",
            "torch.Size([4])\n",
            "torch.Size([4])\n"
          ]
        },
        {
          "output_type": "display_data",
          "data": {
            "text/plain": [
              "<Figure size 640x480 with 1 Axes>"
            ],
            "image/png": "[encoded data removed]"
          },
          "metadata": {}
        }
      ],
      "source": [
        "from numpy.lib import shape_base\n",
        "import matplotlib.pyplot as plt\n",
        "\n",
        "for batch in trainloader:\n",
        "    images, texts, labels = batch\n",
        "    # Print the first batch\n",
        "\n",
        "    print(\"Image Path:\", images[0].shape)\n",
        "    print(\"Text Description:\", texts[0])\n",
        "    print(len(texts))\n",
        "    print(\"Label: \", labels)\n",
        "    print(labels.shape)\n",
        "    print(torch.unique(labels).shape)\n",
        "\n",
        "\n",
        "    plt.subplot(2, 4, 2)\n",
        "    image = images[0].numpy().transpose((1, 2, 0))\n",
        "    plt.imshow(image)\n",
        "    plt.title(f\"{texts[0]}\")\n",
        "    plt.xticks([])\n",
        "    plt.yticks([])\n",
        "\n",
        "    break"
      ]
    },
    {
      "cell_type": "markdown",
      "metadata": {
        "id": "fL2zwBDdNvZw"
      },
      "source": [
        "# Loss and Optimizer\n"
      ]
    },
    {
      "cell_type": "code",
      "execution_count": 74,
      "metadata": {
        "colab": {
          "base_uri": "https://localhost:8080/"
        },
        "id": "KlgzBPDONu3x",
        "outputId": "69b8b77b-aff4-4548-fd4f-62763ce6b832"
      },
      "outputs": [
        {
          "output_type": "stream",
          "name": "stdout",
          "text": [
            "batch size: 4\n",
            "lr: 1e-05\n",
            "momentum: 0.0\n",
            "weight decay: 0\n"
          ]
        }
      ],
      "source": [
        "from torch.optim.lr_scheduler import CosineAnnealingLR\n",
        "\n",
        "def convert_models_to_fp32(model):\n",
        "    for p in model.parameters():\n",
        "        p.data = p.data.float()\n",
        "        p.grad.data = p.grad.data.float()\n",
        "\n",
        "loss_img = nn.CrossEntropyLoss()\n",
        "loss_txt = nn.CrossEntropyLoss()\n",
        "optimizer = optim.SGD(model.parameters(), lr=LR, momentum=MOMENTUM, weight_decay=WEIGHT_DECAY)\n",
        "scheduler = CosineAnnealingLR(optimizer, T_max=5, eta_min=1e-8)\n",
        "\n",
        "device = torch.device(\"cuda\" if torch.cuda.is_available() else \"cpu\")\n",
        "model = model.to(device)\n",
        "\n",
        "print(\"batch size:\", BATCH_SIZE)\n",
        "print(\"lr:\", LR)\n",
        "print(\"momentum:\", MOMENTUM)\n",
        "print(\"weight decay:\", WEIGHT_DECAY)"
      ]
    },
    {
      "cell_type": "markdown",
      "metadata": {
        "id": "ohM8hR0AgTkL"
      },
      "source": [
        "#Train and validation"
      ]
    },
    {
      "cell_type": "code",
      "execution_count": 69,
      "metadata": {
        "id": "b1PWIod4rgGR"
      },
      "outputs": [],
      "source": [
        "def evaluate_model(model, weight, valloader):\n",
        "    model.load_state_dict(torch.load(weight))\n",
        "    model.eval()\n",
        "\n",
        "    val_correct_top1 = 0\n",
        "    val_correct_top3 = 0\n",
        "    total_val_samples = len(valloader.dataset)\n",
        "\n",
        "    with torch.no_grad():\n",
        "        for val_batch in valloader:\n",
        "            val_images, val_texts, val_labels = val_batch\n",
        "            val_images = val_images.to(device)\n",
        "            val_texts =  torch.cat([clip.tokenize(f\"a photo of a {c}\") for c in class_list]).to(device)\n",
        "            val_labels = val_labels.to(device)\n",
        "\n",
        "            logits_per_image, _ = model(val_images, val_texts)\n",
        "\n",
        "            # Top-1 accuracy\n",
        "            val_top1_pred = logits_per_image.argmax(dim=1)\n",
        "            val_correct_top1 += (val_top1_pred == val_labels).sum().item()\n",
        "\n",
        "            # Top-3 accuracy\n",
        "            _, val_top3_pred = logits_per_image.topk(3, dim=1)\n",
        "            val_correct_top3 += val_top3_pred.eq(val_labels.view(-1, 1).expand_as(val_top3_pred)).sum().item()\n",
        "\n",
        "    # Calculate accuracy\n",
        "    val_top1_accuracy = val_correct_top1 / total_val_samples\n",
        "    val_top3_accuracy = val_correct_top3 / total_val_samples\n",
        "\n",
        "    print(f\"Validation Top-1 Accuracy: {val_top1_accuracy * 100:.2f}%\")\n",
        "    print(f\"Validation Top-3 Accuracy: {val_top3_accuracy * 100:.2f}%\")\n",
        "\n",
        "    return val_top1_accuracy, val_top3_accuracy"
      ]
    },
    {
      "cell_type": "code",
      "execution_count": null,
      "metadata": {
        "id": "lVXeqDiDK3Eq"
      },
      "outputs": [],
      "source": [
        "best_te_loss = 1e5\n",
        "best_ep = -1\n",
        "\n",
        "train_losses = []\n",
        "val_losses = []\n",
        "\n",
        "early_stopping_patience = 5\n",
        "early_stopping_counter = 0\n",
        "\n",
        "for epoch in range(EPOCH):\n",
        "    print(f\"Epoch: {epoch+1}\")\n",
        "\n",
        "    # Training loop\n",
        "    model.train()\n",
        "    train_loss = 0\n",
        "    step = 0\n",
        "    pbar = tqdm(trainloader, total=len(trainloader))\n",
        "    for batch in pbar:\n",
        "        step += 1\n",
        "        optimizer.zero_grad()\n",
        "\n",
        "        images, texts, _ = batch\n",
        "        images = images.to(device)\n",
        "        texts = clip.tokenize(texts).to(device)\n",
        "\n",
        "        logits_per_image, logits_per_text = model(images, texts)\n",
        "\n",
        "        # Compute loss\n",
        "        actual_batch_size = images.size(0)\n",
        "        ground_truth = torch.arange(actual_batch_size).to(device)\n",
        "        total_loss = (loss_img(logits_per_image, ground_truth) + loss_txt(logits_per_text, ground_truth)) / 2\n",
        "        train_loss += total_loss.item()\n",
        "\n",
        "        total_loss.backward()\n",
        "\n",
        "        if device == \"cpu\":\n",
        "            optimizer.step()\n",
        "            scheduler.step()\n",
        "        else :\n",
        "            convert_models_to_fp32(model)\n",
        "            optimizer.step()\n",
        "            scheduler.step()\n",
        "            clip.model.convert_weights(model)\n",
        "\n",
        "        pbar.set_description(f\"Epoch {epoch+1}/{EPOCH}, Train Loss: {total_loss.item():.4f}\", refresh=True)\n",
        "    train_loss /= step\n",
        "    train_losses.append(train_loss)\n",
        "\n",
        "\n",
        "    # Validation loop\n",
        "    val_loss = 0\n",
        "    step = 0\n",
        "    with torch.no_grad():\n",
        "        model.eval()\n",
        "        test_pbar = tqdm(valloader, total = len(valloader))\n",
        "        for batch in test_pbar:\n",
        "            step += 1\n",
        "            images, texts, _ = batch\n",
        "            images = images.to(device)\n",
        "            texts = clip.tokenize(texts).to(device)\n",
        "\n",
        "            logits_per_image, logits_per_text = model(images, texts)\n",
        "\n",
        "            actual_batch_size = logits_per_image.size(0)\n",
        "            ground_truth = torch.arange(actual_batch_size).to(device)\n",
        "            total_loss = (loss_img(logits_per_image,ground_truth) + loss_txt(logits_per_text,ground_truth)) / 2\n",
        "            val_loss += total_loss.item()\n",
        "\n",
        "            test_pbar.set_description(f\"Epoch {epoch+1}/{EPOCH}, Validation Loss: {total_loss.item():.4f}\", refresh=True)\n",
        "        val_loss /= step\n",
        "        val_losses.append(val_loss)\n",
        "\n",
        "    if val_loss < best_te_loss:\n",
        "        best_te_loss = val_loss\n",
        "        best_ep = epoch+1\n",
        "        torch.save(model.state_dict(), \"best_model.pt\")\n",
        "        print(f\"Best epoch: {best_ep}, Best Validation loss: {best_te_loss}\")\n",
        "        early_stopping_counter = 0\n",
        "    else:\n",
        "        early_stopping_counter += 1\n",
        "\n",
        "        if early_stopping_counter >= early_stopping_patience:\n",
        "              print(f\"Validation loss did not improve for {early_stopping_patience} epochs. Stopping early.\")\n",
        "              break\n",
        "\n",
        "    print(f\"epoch {epoch+1}, Train Loss {train_loss}, Validation Loss {val_loss}\")\n",
        "\n",
        "top1, top3 = evaluate_model(model, \"best_model.pt\", valloader)\n",
        "\n",
        "plt.plot(range(1, epoch+2), val_losses, label='Validation Loss')\n",
        "plt.xlabel('Epoch')\n",
        "plt.ylabel('Loss')\n",
        "plt.title('Validation Losses over Epochs')\n",
        "plt.legend()\n",
        "plt.show()"
      ]
    },
    {
      "cell_type": "code",
      "execution_count": null,
      "metadata": {
        "id": "Egw0RGok1srR"
      },
      "outputs": [],
      "source": [
        "torch.save(model.state_dict(), 'StandfordCats_9_n.pth')\n",
        "shutil.copy('StandfordCats_9_n.pth', '/content/drive/MyDrive/Study/DL_CLIP/experiment_model/StandfordCats_9_n.pth')"
      ]
    },
    {
      "cell_type": "markdown",
      "metadata": {
        "id": "KpHZl4d70jvr"
      },
      "source": [
        "# Evaluate with the Validation set\n"
      ]
    },
    {
      "cell_type": "code",
      "execution_count": null,
      "metadata": {
        "colab": {
          "base_uri": "https://localhost:8080/"
        },
        "id": "6ekdcNk-AxAX",
        "outputId": "1c19e60d-b1c1-4fe6-bfa2-d8f964c4fcb9"
      },
      "outputs": [
        {
          "name": "stdout",
          "output_type": "stream",
          "text": [
            "Validation Top-1 Accuracy: 10.59%\n",
            "Validation Top-3 Accuracy: 26.79%\n"
          ]
        }
      ],
      "source": [
        "model.load_state_dict(torch.load('best_model.pt'))\n",
        "model.eval()\n",
        "\n",
        "val_correct_top1 = 0\n",
        "val_correct_top3 = 0\n",
        "total_val_samples = len(valloader.dataset)\n",
        "\n",
        "with torch.no_grad():\n",
        "    for val_batch in valloader:\n",
        "        val_images, val_texts, val_labels = val_batch\n",
        "        val_images = val_images.to(device)\n",
        "        val_texts =  torch.cat([clip.tokenize(f\"a photo of a {c}\") for c in class_list]).to(device)\n",
        "        val_labels = val_labels.to(device)\n",
        "\n",
        "        logits_per_image, _ = model(val_images, val_texts)\n",
        "\n",
        "        # Top-1 accuracy\n",
        "        val_top1_pred = logits_per_image.argmax(dim=1)\n",
        "        val_correct_top1 += (val_top1_pred == val_labels).sum().item()\n",
        "\n",
        "        # Top-3 accuracy\n",
        "        _, val_top3_pred = logits_per_image.topk(3, dim=1)\n",
        "        val_correct_top3 += val_top3_pred.eq(val_labels.view(-1, 1).expand_as(val_top3_pred)).sum().item()\n",
        "\n",
        "# Calculate accuracy\n",
        "val_top1_accuracy = val_correct_top1 / total_val_samples\n",
        "val_top3_accuracy = val_correct_top3 / total_val_samples\n",
        "\n",
        "print(f\"Validation Top-1 Accuracy: {val_top1_accuracy * 100:.2f}%\")\n",
        "print(f\"Validation Top-3 Accuracy: {val_top3_accuracy * 100:.2f}%\")"
      ]
    }
  ],
  "metadata": {
    "accelerator": "GPU",
    "colab": {
      "provenance": [],
      "include_colab_link": true
    },
    "kernelspec": {
      "display_name": "Python 3",
      "name": "python3"
    },
    "language_info": {
      "codemirror_mode": {
        "name": "ipython",
        "version": 3
      },
      "file_extension": ".py",
      "mimetype": "text/x-python",
      "name": "python",
      "nbconvert_exporter": "python",
      "pygments_lexer": "ipython3",
      "version": "3.9.18"
    }
  },
  "nbformat": 4,
  "nbformat_minor": 0
}