{
  "cells": [
    {
      "cell_type": "markdown",
      "metadata": {
        "id": "view-in-github",
        "colab_type": "text"
      },
      "source": [
        "<a href=\"https://colab.research.google.com/github/hmin27/2023_DL_Clip/blob/main/fewshot_dataset.ipynb\" target=\"_parent\"><img src=\"https://colab.research.google.com/assets/colab-badge.svg\" alt=\"Open In Colab\"/></a>"
      ]
    },
    {
      "cell_type": "code",
      "execution_count": null,
      "metadata": {
        "colab": {
          "base_uri": "https://localhost:8080/"
        },
        "id": "bBZLIv1Hyfpl",
        "outputId": "375c41e5-2c37-46ca-f049-d6bd6b01ffbd"
      },
      "outputs": [
        {
          "output_type": "stream",
          "name": "stdout",
          "text": [
            "Mounted at /content/drive\n"
          ]
        }
      ],
      "source": [
        "from google.colab import drive\n",
        "drive.mount('/content/drive')"
      ]
    },
    {
      "cell_type": "code",
      "execution_count": null,
      "metadata": {
        "id": "9LjIHqmPml8n"
      },
      "outputs": [],
      "source": [
        "import os\n",
        "import shutil\n",
        "import random\n",
        "\n",
        "def create_shot_directories(shots, random_seed=42):\n",
        "\n",
        "    random.seed(random_seed)\n",
        "\n",
        "    for shot in shots:\n",
        "        shot_dir = os.path.join(few_shot_dataset_path, f\"{shot}_shot\")\n",
        "        os.makedirs(shot_dir)\n",
        "\n",
        "        for split in ['train', 'validation', 'test']:\n",
        "            split_dir = os.path.join(shot_dir, split)\n",
        "            os.makedirs(split_dir)\n",
        "\n",
        "            for class_name in os.listdir(full_dataset_path):\n",
        "                class_dir = os.path.join(full_dataset_path, class_name)\n",
        "                class_samples = os.listdir(class_dir)\n",
        "\n",
        "                random.shuffle(class_samples)\n",
        "\n",
        "                split_size = shot\n",
        "\n",
        "                if split == 'train':\n",
        "                    selected_samples = class_samples[:split_size]\n",
        "                elif split == 'validation':\n",
        "                    selected_samples = class_samples[split_size:split_size * 2]\n",
        "                else:\n",
        "                    selected_samples = class_samples[split_size * 2:split_size * 3]\n",
        "\n",
        "                class_split_dir = os.path.join(split_dir, class_name)\n",
        "                os.makedirs(class_split_dir)\n",
        "\n",
        "                for sample in selected_samples:\n",
        "                    src_path = os.path.join(class_dir, sample)\n",
        "                    dest_path = os.path.join(class_split_dir, sample)\n",
        "                    shutil.copy(src_path, dest_path)\n",
        "\n",
        "full_dataset_path = '/content/drive/MyDrive/Study/DL_CLIP/Food'\n",
        "few_shot_dataset_path = '/content/drive/MyDrive/Study/DL_CLIP/Food_fewshot'\n",
        "\n",
        "shots = [1, 2, 4, 8, 16]\n",
        "create_shot_directories(shots)\n"
      ]
    },
    {
      "cell_type": "code",
      "execution_count": null,
      "metadata": {
        "id": "3mca6c2ApmMI"
      },
      "outputs": [],
      "source": [
        "import os\n",
        "import shutil\n",
        "import random\n",
        "\n",
        "def create_shot_directories(shots, full_dataset_path, few_shot_dataset_path, random_seed=42):\n",
        "    random.seed(random_seed)\n",
        "\n",
        "    for shot in shots:\n",
        "        shot_dir = os.path.join(few_shot_dataset_path, f\"{shot}_shot\")\n",
        "        os.makedirs(shot_dir)\n",
        "\n",
        "        # 각 split에서 이미지 겹치지 않도록 클래스 별로 이미지 선정\n",
        "        for split in ['train', 'validation', 'test']:\n",
        "            split_dir = os.path.join(shot_dir, split)\n",
        "            os.makedirs(split_dir)\n",
        "\n",
        "            # 클래스 목록 생성\n",
        "            class_list = os.listdir(full_dataset_path)\n",
        "\n",
        "            for class_name in class_list:\n",
        "                class_dir = os.path.join(full_dataset_path, class_name)\n",
        "                class_samples = os.listdir(class_dir)\n",
        "\n",
        "                random.shuffle(class_samples)\n",
        "\n",
        "                split_size = shot\n",
        "\n",
        "                # 클래스 별로 이미지 선정\n",
        "                selected_samples = class_samples[:split_size]\n",
        "\n",
        "                class_split_dir = os.path.join(split_dir, class_name)\n",
        "                os.makedirs(class_split_dir)\n",
        "\n",
        "                for sample in selected_samples:\n",
        "                    src_path = os.path.join(class_dir, sample)\n",
        "                    dest_path = os.path.join(class_split_dir, sample)\n",
        "                    shutil.copy(src_path, dest_path)\n",
        "\n",
        "        # test에서 샷 수만큼의 이미지만 들어가게 만들기\n",
        "        test_dir = os.path.join(shot_dir, 'test')\n",
        "        for class_name in class_list:\n",
        "            class_split_dir = os.path.join(test_dir, class_name)\n",
        "\n",
        "            # 샷 수만큼 이미지만 복사\n",
        "            selected_samples = os.listdir(class_split_dir)[:shot]\n",
        "\n",
        "            for sample in selected_samples:\n",
        "                src_path = os.path.join(class_split_dir, sample)\n",
        "                dest_path = os.path.join(test_dir, class_name, sample)\n",
        "                shutil.copy(src_path, dest_path)\n",
        "\n",
        "        # 어떤 샷에서는 전체 클래스가 아니라 클래스 중 일부만 들어가 있을 때 수정\n",
        "        for split in ['train', 'validation', 'test']:\n",
        "            split_dir = os.path.join(shot_dir, split)\n",
        "            for class_name in class_list:\n",
        "                class_split_dir = os.path.join(split_dir, class_name)\n",
        "\n",
        "                # 존재하지 않는 클래스 디렉토리는 건너뜀\n",
        "                if not os.path.exists(class_split_dir):\n",
        "                    continue\n",
        "\n",
        "                # 클래스 중 일부만 들어가 있을 경우, 클래스 전체로 복사\n",
        "                if len(os.listdir(class_split_dir)) < shot:\n",
        "                    for sample in os.listdir(class_split_dir):\n",
        "                        src_path = os.path.join(class_split_dir, sample)\n",
        "                        dest_path = os.path.join(split_dir, class_name, sample)\n",
        "                        shutil.copy(src_path, dest_path)\n",
        "\n",
        "full_dataset_path = '/content/drive/MyDrive/Study/DL_CLIP/Food'\n",
        "few_shot_dataset_path = '/content/drive/MyDrive/Study/DL_CLIP/Food_fewshot'\n",
        "\n",
        "shots = [1, 2, 4, 8, 16]\n",
        "create_shot_directories(shots, full_dataset_path, few_shot_dataset_path)\n"
      ]
    }
  ],
  "metadata": {
    "colab": {
      "machine_shape": "hm",
      "provenance": [],
      "authorship_tag": "ABX9TyMCz9V4do6p2PvEfb4OMhdw",
      "include_colab_link": true
    },
    "kernelspec": {
      "display_name": "Python 3",
      "name": "python3"
    },
    "language_info": {
      "name": "python"
    }
  },
  "nbformat": 4,
  "nbformat_minor": 0
}