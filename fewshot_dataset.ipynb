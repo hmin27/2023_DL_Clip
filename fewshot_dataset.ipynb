{
  "nbformat": 4,
  "nbformat_minor": 0,
  "metadata": {
    "colab": {
      "provenance": [],
      "machine_shape": "hm",
      "gpuType": "A100",
      "authorship_tag": "ABX9TyPSIaHFw2VhD73vxfUeYL6Y",
      "include_colab_link": true
    },
    "kernelspec": {
      "name": "python3",
      "display_name": "Python 3"
    },
    "language_info": {
      "name": "python"
    }
  },
  "cells": [
    {
      "cell_type": "markdown",
      "metadata": {
        "id": "view-in-github",
        "colab_type": "text"
      },
      "source": [
        "<a href=\"https://colab.research.google.com/github/hmin27/2023_DL_Clip/blob/main/fewshot_dataset.ipynb\" target=\"_parent\"><img src=\"https://colab.research.google.com/assets/colab-badge.svg\" alt=\"Open In Colab\"/></a>"
      ]
    },
    {
      "cell_type": "code",
      "source": [
        "from google.colab import drive\n",
        "drive.mount('/content/drive')"
      ],
      "metadata": {
        "colab": {
          "base_uri": "https://localhost:8080/"
        },
        "id": "bBZLIv1Hyfpl",
        "outputId": "0752a05e-3dfe-4c10-ca08-86007e8f938f"
      },
      "execution_count": 2,
      "outputs": [
        {
          "output_type": "stream",
          "name": "stdout",
          "text": [
            "Mounted at /content/drive\n"
          ]
        }
      ]
    },
    {
      "cell_type": "code",
      "execution_count": 7,
      "metadata": {
        "id": "3mca6c2ApmMI"
      },
      "outputs": [],
      "source": [
        "import os\n",
        "import shutil\n",
        "import json\n",
        "import random\n",
        "\n",
        "full_dataset_path = '/content/drive/MyDrive/Study/DL_CLIP/Food'\n",
        "few_shot_dataset_path = '/content/drive/MyDrive/Study/DL_CLIP/Food_fewshot'\n",
        "\n",
        "classes = os.listdir(full_dataset_path)\n",
        "\n",
        "os.makedirs(few_shot_dataset_path, exist_ok=True)\n",
        "num_shots = [1, 2, 4, 8, 16]\n",
        "\n",
        "for n_shots in num_shots:\n",
        "    # Create subdirectories for each shot level\n",
        "    n_shot_subdir = f\"{n_shots}shot\"\n",
        "    n_shot_dir = os.path.join(few_shot_dataset_path, n_shot_subdir)\n",
        "    os.makedirs(n_shot_dir, exist_ok=True)\n",
        "\n",
        "    for class_name in classes:\n",
        "        class_path = os.path.join(full_dataset_path, class_name)\n",
        "        few_shot_class_path = os.path.join(n_shot_dir, class_name)\n",
        "\n",
        "        os.makedirs(few_shot_class_path, exist_ok=True)\n",
        "\n",
        "        # Get all available samples in the class\n",
        "        all_samples = os.listdir(class_path)\n",
        "\n",
        "        # If n_shots is greater than the number of available samples, use all_samples\n",
        "        selected_samples = random.sample(all_samples, min(n_shots, len(all_samples)))\n",
        "\n",
        "        for sample in selected_samples:\n",
        "            src_path = os.path.join(class_path, sample)\n",
        "            dst_path = os.path.join(few_shot_class_path, sample)\n",
        "            shutil.copy(src_path, dst_path)\n",
        "\n",
        "few_shot_info = {\n",
        "    \"num_shots\": num_shots,\n",
        "    \"classes\": classes\n",
        "}\n",
        "\n",
        "with open(os.path.join(few_shot_dataset_path, \"few_shot_info.json\"), \"w\") as f:\n",
        "    json.dump(few_shot_info, f)"
      ]
    },
    {
      "cell_type": "code",
      "source": [],
      "metadata": {
        "id": "apV3prOT0BVZ"
      },
      "execution_count": null,
      "outputs": []
    }
  ]
}