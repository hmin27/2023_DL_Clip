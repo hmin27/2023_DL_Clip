{
  "cells": [
    {
      "cell_type": "markdown",
      "metadata": {
        "id": "view-in-github",
        "colab_type": "text"
      },
      "source": [
        "<a href=\"https://colab.research.google.com/github/hmin27/2023_DL_Clip/blob/main/fewshot_dataset.ipynb\" target=\"_parent\"><img src=\"https://colab.research.google.com/assets/colab-badge.svg\" alt=\"Open In Colab\"/></a>"
      ]
    },
    {
      "cell_type": "code",
      "execution_count": null,
      "metadata": {
        "colab": {
          "base_uri": "https://localhost:8080/"
        },
        "id": "bBZLIv1Hyfpl",
        "outputId": "375c41e5-2c37-46ca-f049-d6bd6b01ffbd"
      },
      "outputs": [
        {
          "output_type": "stream",
          "name": "stdout",
          "text": [
            "Mounted at /content/drive\n"
          ]
        }
      ],
      "source": [
        "from google.colab import drive\n",
        "drive.mount('/content/drive')"
      ]
    },
    {
      "cell_type": "code",
      "execution_count": null,
      "metadata": {
        "id": "9LjIHqmPml8n"
      },
      "outputs": [],
      "source": [
        "import os\n",
        "import shutil\n",
        "import random\n",
        "\n",
        "def create_shot_directories(shots, random_seed=42):\n",
        "\n",
        "    random.seed(random_seed)\n",
        "\n",
        "    for shot in shots:\n",
        "        shot_dir = os.path.join(few_shot_dataset_path, f\"{shot}_shot\")\n",
        "        os.makedirs(shot_dir)\n",
        "\n",
        "        for split in ['train', 'validation', 'test']:\n",
        "            split_dir = os.path.join(shot_dir, split)\n",
        "            os.makedirs(split_dir)\n",
        "\n",
        "            for class_name in os.listdir(full_dataset_path):\n",
        "                class_dir = os.path.join(full_dataset_path, class_name)\n",
        "                class_samples = os.listdir(class_dir)\n",
        "\n",
        "                random.shuffle(class_samples)\n",
        "\n",
        "                split_size = shot\n",
        "\n",
        "                if split == 'train':\n",
        "                    selected_samples = class_samples[:split_size]\n",
        "                elif split == 'validation':\n",
        "                    selected_samples = class_samples[split_size:split_size * 2]\n",
        "                else:\n",
        "                    selected_samples = class_samples[split_size * 2:split_size * 3]\n",
        "\n",
        "                class_split_dir = os.path.join(split_dir, class_name)\n",
        "                os.makedirs(class_split_dir)\n",
        "\n",
        "                for sample in selected_samples:\n",
        "                    src_path = os.path.join(class_dir, sample)\n",
        "                    dest_path = os.path.join(class_split_dir, sample)\n",
        "                    shutil.copy(src_path, dest_path)\n",
        "\n",
        "full_dataset_path = '/content/drive/MyDrive/Study/DL_CLIP/Food'\n",
        "few_shot_dataset_path = '/content/drive/MyDrive/Study/DL_CLIP/Food_fewshot'\n",
        "\n",
        "shots = [1, 2, 4, 8, 16]\n",
        "create_shot_directories(shots)\n"
      ]
    }
  ],
  "metadata": {
    "colab": {
      "machine_shape": "hm",
      "provenance": [],
      "authorship_tag": "ABX9TyMPxWMYVJ+1F9mt9wHxb/EW",
      "include_colab_link": true
    },
    "kernelspec": {
      "display_name": "Python 3",
      "name": "python3"
    },
    "language_info": {
      "name": "python"
    }
  },
  "nbformat": 4,
  "nbformat_minor": 0
}