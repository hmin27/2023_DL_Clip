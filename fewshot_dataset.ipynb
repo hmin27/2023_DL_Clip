{
  "nbformat": 4,
  "nbformat_minor": 0,
  "metadata": {
    "colab": {
      "provenance": [],
      "machine_shape": "hm",
      "gpuType": "A100",
      "authorship_tag": "ABX9TyNCzrD/vRm671MLok3Eg4Ye",
      "include_colab_link": true
    },
    "kernelspec": {
      "name": "python3",
      "display_name": "Python 3"
    },
    "language_info": {
      "name": "python"
    }
  },
  "cells": [
    {
      "cell_type": "markdown",
      "metadata": {
        "id": "view-in-github",
        "colab_type": "text"
      },
      "source": [
        "<a href=\"https://colab.research.google.com/github/hmin27/2023_DL_Clip/blob/main/fewshot_dataset.ipynb\" target=\"_parent\"><img src=\"https://colab.research.google.com/assets/colab-badge.svg\" alt=\"Open In Colab\"/></a>"
      ]
    },
    {
      "cell_type": "code",
      "source": [
        "from google.colab import drive\n",
        "drive.mount('/content/drive')"
      ],
      "metadata": {
        "colab": {
          "base_uri": "https://localhost:8080/"
        },
        "id": "bBZLIv1Hyfpl",
        "outputId": "819c4da6-6eb8-43aa-f589-bffc15121a74"
      },
      "execution_count": 7,
      "outputs": [
        {
          "output_type": "stream",
          "name": "stdout",
          "text": [
            "Drive already mounted at /content/drive; to attempt to forcibly remount, call drive.mount(\"/content/drive\", force_remount=True).\n"
          ]
        }
      ]
    },
    {
      "cell_type": "code",
      "execution_count": 10,
      "metadata": {
        "id": "3mca6c2ApmMI"
      },
      "outputs": [],
      "source": [
        "import os\n",
        "import shutil\n",
        "import json\n",
        "import random\n",
        "\n",
        "full_dataset_path = '/content/drive/MyDrive/Study/DL_CLIP/Food'\n",
        "few_shot_dataset_path = '/content/drive/MyDrive/Study/DL_CLIP/Food_fewshot'\n",
        "\n",
        "classes = os.listdir(full_dataset_path)\n",
        "\n",
        "os.makedirs(few_shot_dataset_path, exist_ok=True)\n",
        "num_shots = [1, 2, 4, 8, 16]\n",
        "\n",
        "for n_shots in num_shots:\n",
        "    # Create subdirectories for each shot level\n",
        "    n_shot_subdir = f\"{n_shots}shot\"\n",
        "    n_shot_dir = os.path.join(few_shot_dataset_path, n_shot_subdir)\n",
        "    os.makedirs(n_shot_dir, exist_ok=True)\n",
        "\n",
        "    for class_name in classes:\n",
        "        class_path = os.path.join(full_dataset_path, class_name)\n",
        "        few_shot_class_path = os.path.join(n_shot_dir, class_name)\n",
        "\n",
        "        os.makedirs(few_shot_class_path, exist_ok=True)\n",
        "\n",
        "        # Get all available samples in the class\n",
        "        all_samples = os.listdir(class_path)\n",
        "        selected_samples = random.sample(all_samples, n_shots)\n",
        "\n",
        "        for sample in selected_samples:\n",
        "            src_path = os.path.join(class_path, sample)\n",
        "            dst_path = os.path.join(few_shot_class_path, sample)\n",
        "            shutil.copy(src_path, dst_path)\n",
        "\n",
        "few_shot_info = {\n",
        "    \"num_shots\": num_shots,\n",
        "    \"classes\": classes\n",
        "}\n",
        "\n",
        "with open(os.path.join(few_shot_dataset_path, \"few_shot_info.json\"), \"w\") as f:\n",
        "    json.dump(few_shot_info, f)"
      ]
    }
  ]
}