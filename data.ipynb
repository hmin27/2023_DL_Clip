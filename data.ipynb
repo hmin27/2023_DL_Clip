{
  "cells": [
    {
      "cell_type": "markdown",
      "metadata": {
        "id": "view-in-github",
        "colab_type": "text"
      },
      "source": [
        "<a href=\"https://colab.research.google.com/github/hmin27/2023_DL_Clip/blob/main/data.ipynb\" target=\"_parent\"><img src=\"https://colab.research.google.com/assets/colab-badge.svg\" alt=\"Open In Colab\"/></a>"
      ]
    },
    {
      "cell_type": "code",
      "execution_count": 2,
      "metadata": {
        "colab": {
          "base_uri": "https://localhost:8080/"
        },
        "id": "bBZLIv1Hyfpl",
        "outputId": "d9418847-e127-49ed-e4fc-c9442e565323"
      },
      "outputs": [
        {
          "output_type": "stream",
          "name": "stdout",
          "text": [
            "Mounted at /content/drive\n"
          ]
        }
      ],
      "source": [
        "from google.colab import drive\n",
        "drive.mount('/content/drive')"
      ]
    },
    {
      "cell_type": "code",
      "source": [
        "import torchvision\n",
        "import torchvision.transforms as transforms\n",
        "import tarfile\n",
        "from scipy.io import loadmat\n",
        "import json\n",
        "import numpy as np"
      ],
      "metadata": {
        "id": "TRxdBbk-Un6l"
      },
      "execution_count": 1,
      "outputs": []
    },
    {
      "cell_type": "code",
      "source": [
        "# Flowers 102 Dataset\n",
        "data = torchvision.datasets.Flowers102(root=\"/content/drive/MyDrive/Study/DL_CLIP/Data\", download=True)\n",
        "val_data = torchvision.datasets.Flowers102(root=\"/content/drive/MyDrive/Study/DL_CLIP/Data/flower_val\", split='val', download=True)"
      ],
      "metadata": {
        "id": "C1W4WWfhVgIv"
      },
      "execution_count": null,
      "outputs": []
    },
    {
      "cell_type": "code",
      "source": [
        "# Caltech101 Dataset\n",
        "tech_data = torchvision.datasets.Caltech101(root=\"/content/drive/MyDrive/Study/DL_CLIP/Data\", download=True)"
      ],
      "metadata": {
        "id": "SZo2qmz0sTbO"
      },
      "execution_count": null,
      "outputs": []
    },
    {
      "cell_type": "code",
      "source": [
        "# Standford Cars Dataset\n",
        "car_data = \"/content/drive/MyDrive/Study/DL_CLIP/Data/StandfordCars/cars_train\""
      ],
      "metadata": {
        "id": "HRYC8WyVxJco"
      },
      "execution_count": null,
      "outputs": []
    },
    {
      "cell_type": "code",
      "source": [
        "# Aircraft Dataset\n",
        "aircarft_data = torchvision.datasets.FGVCAircraft(root=\"/content/drive/MyDrive/Study/DL_CLIP/Data\", download=True)"
      ],
      "metadata": {
        "id": "rL2WqU-c7STr"
      },
      "execution_count": null,
      "outputs": []
    },
    {
      "cell_type": "code",
      "source": [
        "# .mat 파일 로드\n",
        "\n",
        "mat_file_path = '/content/drive/MyDrive/Study/DL_CLIP/Data/StandfordCars/cars_annos.mat'\n",
        "mat_data = loadmat(mat_file_path)\n",
        "print(mat_data.keys())\n",
        "\n",
        "annotations_data = loadmat(mat_file_path)['annotations']\n",
        "print(annotations_data.shape)"
      ],
      "metadata": {
        "id": "7TLiyfGBoS33",
        "colab": {
          "base_uri": "https://localhost:8080/"
        },
        "outputId": "8c81e178-8cf8-4496-f471-9424a32ebb82"
      },
      "execution_count": 3,
      "outputs": [
        {
          "output_type": "stream",
          "name": "stdout",
          "text": [
            "dict_keys(['__header__', '__version__', '__globals__', 'annotations', 'class_names'])\n",
            "(1, 16185)\n"
          ]
        }
      ]
    }
  ],
  "metadata": {
    "colab": {
      "machine_shape": "hm",
      "provenance": [],
      "authorship_tag": "ABX9TyPpGTOFK69YYKjM0jezRe+k",
      "include_colab_link": true
    },
    "kernelspec": {
      "display_name": "Python 3",
      "name": "python3"
    },
    "language_info": {
      "name": "python"
    }
  },
  "nbformat": 4,
  "nbformat_minor": 0
}